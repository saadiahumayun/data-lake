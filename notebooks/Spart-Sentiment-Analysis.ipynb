{
 "cells": [
  {
   "cell_type": "code",
   "execution_count": 2,
   "id": "8b36bcf6-4431-4dd9-94f3-d961d7bc3775",
   "metadata": {},
   "outputs": [],
   "source": [
    "#import necessary libraries\n",
    "from pyspark.sql import SparkSession\n",
    "from pyspark.sql.types import *\n",
    "from pyspark.sql.functions import *\n",
    "from pyspark.ml.classification import LogisticRegression\n",
    "from pyspark.ml.feature import HashingTF, Tokenizer, StopWordsRemover"
   ]
  },
  {
   "cell_type": "markdown",
   "id": "a18aab8d-800d-481a-b6d2-bc6b3e90c58d",
   "metadata": {},
   "source": [
    "## Load training data from Minio ##"
   ]
  },
  {
   "cell_type": "code",
   "execution_count": 10,
   "id": "88708bcf-0af9-4f2f-b03c-79283aa70c71",
   "metadata": {},
   "outputs": [],
   "source": [
    "from minio import Minio\n",
    "client = Minio(\"minio:9000\",access_key=\"ffADHWAu70PFl1IscfLH\",secret_key=\"lvJ71G3aJLgPvA556Y3RByUUyhdVwtP0qQ9muFVF\", secure=False)\n",
    "obj = client.get_object(\"miniobucket\", \"sentiment_train_data.csv\")"
   ]
  },
  {
   "cell_type": "code",
   "execution_count": 12,
   "id": "40295109-458a-4c10-a2a7-ac8d8fffa4c6",
   "metadata": {},
   "outputs": [],
   "source": [
    "import pandas as pd\n",
    "df=pd.read_csv(obj)"
   ]
  },
  {
   "cell_type": "code",
   "execution_count": 13,
   "id": "0a5ce85f-9359-45b1-ba5a-1818c595d970",
   "metadata": {},
   "outputs": [
    {
     "data": {
      "text/html": [
       "<div>\n",
       "<style scoped>\n",
       "    .dataframe tbody tr th:only-of-type {\n",
       "        vertical-align: middle;\n",
       "    }\n",
       "\n",
       "    .dataframe tbody tr th {\n",
       "        vertical-align: top;\n",
       "    }\n",
       "\n",
       "    .dataframe thead th {\n",
       "        text-align: right;\n",
       "    }\n",
       "</style>\n",
       "<table border=\"1\" class=\"dataframe\">\n",
       "  <thead>\n",
       "    <tr style=\"text-align: right;\">\n",
       "      <th></th>\n",
       "      <th>sentence</th>\n",
       "      <th>sentiment</th>\n",
       "    </tr>\n",
       "  </thead>\n",
       "  <tbody>\n",
       "    <tr>\n",
       "      <th>0</th>\n",
       "      <td>awww that s a bummer you shoulda got david car...</td>\n",
       "      <td>0</td>\n",
       "    </tr>\n",
       "    <tr>\n",
       "      <th>1</th>\n",
       "      <td>is upset that he can t update his facebook by ...</td>\n",
       "      <td>0</td>\n",
       "    </tr>\n",
       "    <tr>\n",
       "      <th>2</th>\n",
       "      <td>i dived many times for the ball managed to sav...</td>\n",
       "      <td>0</td>\n",
       "    </tr>\n",
       "    <tr>\n",
       "      <th>3</th>\n",
       "      <td>my whole body feels itchy and like its on fire</td>\n",
       "      <td>0</td>\n",
       "    </tr>\n",
       "    <tr>\n",
       "      <th>4</th>\n",
       "      <td>no it s not behaving at all i m mad why am i h...</td>\n",
       "      <td>0</td>\n",
       "    </tr>\n",
       "  </tbody>\n",
       "</table>\n",
       "</div>"
      ],
      "text/plain": [
       "                                            sentence  sentiment\n",
       "0  awww that s a bummer you shoulda got david car...          0\n",
       "1  is upset that he can t update his facebook by ...          0\n",
       "2  i dived many times for the ball managed to sav...          0\n",
       "3     my whole body feels itchy and like its on fire          0\n",
       "4  no it s not behaving at all i m mad why am i h...          0"
      ]
     },
     "execution_count": 13,
     "metadata": {},
     "output_type": "execute_result"
    }
   ],
   "source": [
    "df.head()"
   ]
  },
  {
   "cell_type": "code",
   "execution_count": 17,
   "id": "8b65dcf4-f6fc-49d2-90eb-3bbf305313de",
   "metadata": {},
   "outputs": [],
   "source": [
    "#save the csv to Jupyter container\n",
    "sentiment=df.to_csv('sentiment_train-data.csv')"
   ]
  },
  {
   "cell_type": "markdown",
   "id": "cd1d8b3b-dc61-4a70-bc00-eeb92eb831aa",
   "metadata": {},
   "source": [
    "# Initializing Spark #"
   ]
  },
  {
   "cell_type": "code",
   "execution_count": 3,
   "id": "ae4e5def-aa9c-4d62-add6-5628061a5ef0",
   "metadata": {},
   "outputs": [],
   "source": [
    "appName=\"Sentimen Analysis Spark\"\n",
    "spark=SparkSession.builder.master('local').appName(appName).getOrCreate()"
   ]
  },
  {
   "cell_type": "code",
   "execution_count": 4,
   "id": "8d5a3c71-a0e0-4db2-9eed-e37464847de4",
   "metadata": {},
   "outputs": [
    {
     "name": "stdout",
     "output_type": "stream",
     "text": [
      "+---+---------------------------------------------------------------------------------------------------------+---------+\n",
      "|_c0|sentence                                                                                                 |sentiment|\n",
      "+---+---------------------------------------------------------------------------------------------------------+---------+\n",
      "|0  |awww that s a bummer you shoulda got david carr of third day to do it d                                  |0        |\n",
      "|1  |is upset that he can t update his facebook by texting it and might cry as a result school today also blah|0        |\n",
      "|2  |i dived many times for the ball managed to save the rest go out of bounds                                |0        |\n",
      "+---+---------------------------------------------------------------------------------------------------------+---------+\n",
      "only showing top 3 rows\n",
      "\n"
     ]
    }
   ],
   "source": [
    "tweet_csv=spark.read.csv(\"sentiment_train-data.csv\", inferSchema=True, header=True)\n",
    "tweet_csv.show(truncate=False, n=3)"
   ]
  },
  {
   "cell_type": "code",
   "execution_count": 6,
   "id": "a81f6cc0-ee71-458d-80b7-34b10d6812ad",
   "metadata": {},
   "outputs": [
    {
     "name": "stdout",
     "output_type": "stream",
     "text": [
      "+---------------------------------------------------------------------------------------------------------+-----+\n",
      "|sentence                                                                                                 |label|\n",
      "+---------------------------------------------------------------------------------------------------------+-----+\n",
      "|awww that s a bummer you shoulda got david carr of third day to do it d                                  |0    |\n",
      "|is upset that he can t update his facebook by texting it and might cry as a result school today also blah|0    |\n",
      "|i dived many times for the ball managed to save the rest go out of bounds                                |0    |\n",
      "|my whole body feels itchy and like its on fire                                                           |0    |\n",
      "|no it s not behaving at all i m mad why am i here because i can t see you all over there                 |0    |\n",
      "+---------------------------------------------------------------------------------------------------------+-----+\n",
      "only showing top 5 rows\n",
      "\n"
     ]
    }
   ],
   "source": [
    "data=tweet_csv.select(\n",
    "    \"sentence\",col(\"sentiment\").cast(\"Int\").alias(\"label\"))\n",
    "data.show(truncate=False, n=5)"
   ]
  },
  {
   "cell_type": "code",
   "execution_count": 7,
   "id": "4b78afb7-28d6-4737-9c34-d6052258b1bb",
   "metadata": {},
   "outputs": [
    {
     "name": "stdout",
     "output_type": "stream",
     "text": [
      "Total train : 1067018\n",
      "Total test : 456957\n"
     ]
    }
   ],
   "source": [
    "#Split training and Testing\n",
    "split_data=data.randomSplit([0.7,0.3])\n",
    "train=split_data[0]\n",
    "\n",
    "#label in test renamed to true label\n",
    "test=split_data[1].withColumnRenamed(\"label\",\"true_label\")\n",
    "train_rows=train.count()\n",
    "test_rows=test.count()\n",
    "\n",
    "print(\"Total train :\",train_rows)\n",
    "print(\"Total test :\", test_rows)"
   ]
  },
  {
   "cell_type": "code",
   "execution_count": 8,
   "id": "5b27972c-c21c-4f49-80d6-083c2bcbc37d",
   "metadata": {},
   "outputs": [
    {
     "name": "stdout",
     "output_type": "stream",
     "text": [
      "+--------+-----+--------------+\n",
      "|sentence|label|SentimentWords|\n",
      "+--------+-----+--------------+\n",
      "|        |0    |[]            |\n",
      "|        |1    |[]            |\n",
      "|        |0    |[]            |\n",
      "|        |1    |[]            |\n",
      "|        |0    |[]            |\n",
      "+--------+-----+--------------+\n",
      "only showing top 5 rows\n",
      "\n"
     ]
    }
   ],
   "source": [
    "#Prepare data\n",
    "tokenizer = Tokenizer(inputCol=\"sentence\", outputCol=\"SentimentWords\")\n",
    "tokenizedTrain = tokenizer.transform(train)\n",
    "tokenizedTrain.show(truncate=False,n=5)"
   ]
  },
  {
   "cell_type": "code",
   "execution_count": 9,
   "id": "8c983a4d-7a42-42f9-841e-54dc7a50470d",
   "metadata": {},
   "outputs": [
    {
     "name": "stdout",
     "output_type": "stream",
     "text": [
      "+--------+-----+--------------+---------------+\n",
      "|sentence|label|SentimentWords|MeaningfulWords|\n",
      "+--------+-----+--------------+---------------+\n",
      "|        |0    |[]            |[]             |\n",
      "|        |1    |[]            |[]             |\n",
      "|        |0    |[]            |[]             |\n",
      "|        |1    |[]            |[]             |\n",
      "|        |0    |[]            |[]             |\n",
      "+--------+-----+--------------+---------------+\n",
      "only showing top 5 rows\n",
      "\n"
     ]
    }
   ],
   "source": [
    "swr = StopWordsRemover(inputCol=tokenizer.getOutputCol(), \n",
    "                       outputCol=\"MeaningfulWords\")\n",
    "SwRemovedTrain = swr.transform(tokenizedTrain)\n",
    "SwRemovedTrain.show(truncate=False, n=5)"
   ]
  },
  {
   "cell_type": "code",
   "execution_count": 10,
   "id": "78955432-2076-4de8-af01-9b94181823ac",
   "metadata": {},
   "outputs": [
    {
     "name": "stdout",
     "output_type": "stream",
     "text": [
      "+-----+---------------+--------------+\n",
      "|label|MeaningfulWords|      features|\n",
      "+-----+---------------+--------------+\n",
      "|    0|             []|(262144,[],[])|\n",
      "|    1|             []|(262144,[],[])|\n",
      "|    0|             []|(262144,[],[])|\n",
      "+-----+---------------+--------------+\n",
      "only showing top 3 rows\n",
      "\n"
     ]
    }
   ],
   "source": [
    "hashTF = HashingTF(inputCol=swr.getOutputCol(), outputCol=\"features\")\n",
    "numericTrain = hashTF.transform(SwRemovedTrain).select(\n",
    "    'label', 'MeaningfulWords', 'features')\n",
    "numericTrain.show(n=3)"
   ]
  },
  {
   "cell_type": "code",
   "execution_count": 11,
   "id": "841187fe-e3dc-47e6-850d-fe40314e5682",
   "metadata": {},
   "outputs": [
    {
     "name": "stdout",
     "output_type": "stream",
     "text": [
      "Training Done\n"
     ]
    }
   ],
   "source": [
    "#Training Model\n",
    "lr = LogisticRegression(labelCol=\"label\", featuresCol=\"features\", \n",
    "                        maxIter=10, regParam=0.01)\n",
    "model = lr.fit(numericTrain)\n",
    "print (\"Training Done\")"
   ]
  },
  {
   "cell_type": "code",
   "execution_count": 12,
   "id": "a65bf0a4-e8a1-4c21-8bbd-2388c24be649",
   "metadata": {},
   "outputs": [],
   "source": [
    "# Specify the path where you want to save the model\n",
    "model_lr = \"work/notebooks/lr\"\n",
    "\n",
    "# Save the model\n",
    "model.save(model_lr)"
   ]
  },
  {
   "cell_type": "markdown",
   "id": "f91a908e-c90d-4443-b440-3f560f2c7927",
   "metadata": {},
   "source": [
    "### Loading Test data from Minio ###"
   ]
  },
  {
   "cell_type": "code",
   "execution_count": 13,
   "id": "39763bf1-1040-45ef-93e4-e82d3082cb04",
   "metadata": {},
   "outputs": [],
   "source": [
    "from minio import Minio \n",
    "client = Minio(\"minio:9000\",access_key=\"ffADHWAu70PFl1IscfLH\",secret_key=\"lvJ71G3aJLgPvA556Y3RByUUyhdVwtP0qQ9muFVF\", secure=False)\n",
    "obj = client.get_object(\"miniobucket\", \"tweets_train.csv\")"
   ]
  },
  {
   "cell_type": "code",
   "execution_count": 14,
   "id": "8a20d774-8333-488b-be65-61f07650d5bc",
   "metadata": {},
   "outputs": [
    {
     "data": {
      "text/html": [
       "<div>\n",
       "<style scoped>\n",
       "    .dataframe tbody tr th:only-of-type {\n",
       "        vertical-align: middle;\n",
       "    }\n",
       "\n",
       "    .dataframe tbody tr th {\n",
       "        vertical-align: top;\n",
       "    }\n",
       "\n",
       "    .dataframe thead th {\n",
       "        text-align: right;\n",
       "    }\n",
       "</style>\n",
       "<table border=\"1\" class=\"dataframe\">\n",
       "  <thead>\n",
       "    <tr style=\"text-align: right;\">\n",
       "      <th></th>\n",
       "      <th>use ledger trezor monero desktop wallet. wouldn't xmr exchange</th>\n",
       "    </tr>\n",
       "  </thead>\n",
       "  <tbody>\n",
       "    <tr>\n",
       "      <th>0</th>\n",
       "      <td>\"institutional investors\". turns out, bitcoin ...</td>\n",
       "    </tr>\n",
       "    <tr>\n",
       "      <th>1</th>\n",
       "      <td>i'm old remember buy entire bitcoin $19,000</td>\n",
       "    </tr>\n",
       "    <tr>\n",
       "      <th>2</th>\n",
       "      <td>rt : parts world getting ready celebrate new y...</td>\n",
       "    </tr>\n",
       "    <tr>\n",
       "      <th>3</th>\n",
       "      <td>i'm old remember buy entire bitcoin $19,000</td>\n",
       "    </tr>\n",
       "    <tr>\n",
       "      <th>4</th>\n",
       "      <td>rt : parts world getting ready celebrate new y...</td>\n",
       "    </tr>\n",
       "    <tr>\n",
       "      <th>5</th>\n",
       "      <td>i'm old remember buy entire bitcoin $19,000</td>\n",
       "    </tr>\n",
       "    <tr>\n",
       "      <th>6</th>\n",
       "      <td>rt : parts world getting ready celebrate new y...</td>\n",
       "    </tr>\n",
       "    <tr>\n",
       "      <th>7</th>\n",
       "      <td>i'm old remember buy entire bitcoin $19,000</td>\n",
       "    </tr>\n",
       "    <tr>\n",
       "      <th>8</th>\n",
       "      <td>rt : parts world getting ready celebrate new y...</td>\n",
       "    </tr>\n",
       "    <tr>\n",
       "      <th>9</th>\n",
       "      <td>i'm old remember buy entire bitcoin $19,000</td>\n",
       "    </tr>\n",
       "  </tbody>\n",
       "</table>\n",
       "</div>"
      ],
      "text/plain": [
       "  use ledger trezor monero desktop wallet. wouldn't xmr exchange\n",
       "0  \"institutional investors\". turns out, bitcoin ...            \n",
       "1        i'm old remember buy entire bitcoin $19,000            \n",
       "2  rt : parts world getting ready celebrate new y...            \n",
       "3        i'm old remember buy entire bitcoin $19,000            \n",
       "4  rt : parts world getting ready celebrate new y...            \n",
       "5        i'm old remember buy entire bitcoin $19,000            \n",
       "6  rt : parts world getting ready celebrate new y...            \n",
       "7        i'm old remember buy entire bitcoin $19,000            \n",
       "8  rt : parts world getting ready celebrate new y...            \n",
       "9        i'm old remember buy entire bitcoin $19,000            "
      ]
     },
     "execution_count": 14,
     "metadata": {},
     "output_type": "execute_result"
    }
   ],
   "source": [
    "import pandas as pd\n",
    "df = pd.read_csv(obj)\n",
    "df.head(10)"
   ]
  },
  {
   "cell_type": "code",
   "execution_count": 15,
   "id": "2c7a0659-3f1f-4c64-b3dd-f9bca331ed82",
   "metadata": {},
   "outputs": [
    {
     "data": {
      "text/html": [
       "<div>\n",
       "<style scoped>\n",
       "    .dataframe tbody tr th:only-of-type {\n",
       "        vertical-align: middle;\n",
       "    }\n",
       "\n",
       "    .dataframe tbody tr th {\n",
       "        vertical-align: top;\n",
       "    }\n",
       "\n",
       "    .dataframe thead th {\n",
       "        text-align: right;\n",
       "    }\n",
       "</style>\n",
       "<table border=\"1\" class=\"dataframe\">\n",
       "  <thead>\n",
       "    <tr style=\"text-align: right;\">\n",
       "      <th></th>\n",
       "      <th>sentence</th>\n",
       "    </tr>\n",
       "  </thead>\n",
       "  <tbody>\n",
       "    <tr>\n",
       "      <th>0</th>\n",
       "      <td>\"institutional investors\". turns out, bitcoin ...</td>\n",
       "    </tr>\n",
       "    <tr>\n",
       "      <th>1</th>\n",
       "      <td>i'm old remember buy entire bitcoin $19,000</td>\n",
       "    </tr>\n",
       "    <tr>\n",
       "      <th>2</th>\n",
       "      <td>rt : parts world getting ready celebrate new y...</td>\n",
       "    </tr>\n",
       "    <tr>\n",
       "      <th>3</th>\n",
       "      <td>i'm old remember buy entire bitcoin $19,000</td>\n",
       "    </tr>\n",
       "    <tr>\n",
       "      <th>4</th>\n",
       "      <td>rt : parts world getting ready celebrate new y...</td>\n",
       "    </tr>\n",
       "  </tbody>\n",
       "</table>\n",
       "</div>"
      ],
      "text/plain": [
       "                                            sentence\n",
       "0  \"institutional investors\". turns out, bitcoin ...\n",
       "1        i'm old remember buy entire bitcoin $19,000\n",
       "2  rt : parts world getting ready celebrate new y...\n",
       "3        i'm old remember buy entire bitcoin $19,000\n",
       "4  rt : parts world getting ready celebrate new y..."
      ]
     },
     "execution_count": 15,
     "metadata": {},
     "output_type": "execute_result"
    }
   ],
   "source": [
    "#Giving this dataset a header\n",
    "columns = ['sentence']\n",
    "df.columns=columns\n",
    "df.head()"
   ]
  },
  {
   "cell_type": "code",
   "execution_count": 18,
   "id": "8ba5ef04-d52a-4682-a240-0af68cdbc8ff",
   "metadata": {},
   "outputs": [],
   "source": [
    "tweets_test=df.to_csv('tweets_test.csv')"
   ]
  },
  {
   "cell_type": "code",
   "execution_count": 16,
   "id": "813ac5da-51dc-4bc0-8bcb-ae1d833f2ca6",
   "metadata": {},
   "outputs": [
    {
     "name": "stdout",
     "output_type": "stream",
     "text": [
      "+---+---------------------------------------------------------------------------------------+\n",
      "|_c0|sentence                                                                               |\n",
      "+---+---------------------------------------------------------------------------------------+\n",
      "|0  |\"\"\"institutional investors\"\". turns out                                                |\n",
      "|1  |i'm old remember buy entire bitcoin $19,000                                            |\n",
      "|2  |rt : parts world getting ready celebrate new year, kept buying new bitcoin. looks like…|\n",
      "+---+---------------------------------------------------------------------------------------+\n",
      "only showing top 3 rows\n",
      "\n"
     ]
    }
   ],
   "source": [
    "tweets_test=spark.read.csv(\"tweets_test.csv\", inferSchema=True, header=True)\n",
    "tweets_test.show(truncate=False, n=3)"
   ]
  },
  {
   "cell_type": "code",
   "execution_count": 17,
   "id": "cd3f2561-bb63-4645-ab13-be943c2ef9fe",
   "metadata": {},
   "outputs": [
    {
     "name": "stdout",
     "output_type": "stream",
     "text": [
      "+---+-------------------------------------------+---------------------------------------------------+----------------------------------------------+----------------------------------------------------------------------------+\n",
      "|_c0|sentence                                   |SentimentWords                                     |MeaningfulWords                               |features                                                                    |\n",
      "+---+-------------------------------------------+---------------------------------------------------+----------------------------------------------+----------------------------------------------------------------------------+\n",
      "|0  |\"\"\"institutional investors\"\". turns out    |[\"\"\"institutional, investors\"\"., turns, out]       |[\"\"\"institutional, investors\"\"., turns]       |(262144,[16108,166604,239666],[1.0,1.0,1.0])                                |\n",
      "|1  |i'm old remember buy entire bitcoin $19,000|[i'm, old, remember, buy, entire, bitcoin, $19,000]|[old, remember, buy, entire, bitcoin, $19,000]|(262144,[3928,132778,182235,196997,213760,240841],[1.0,1.0,1.0,1.0,1.0,1.0])|\n",
      "+---+-------------------------------------------+---------------------------------------------------+----------------------------------------------+----------------------------------------------------------------------------+\n",
      "only showing top 2 rows\n",
      "\n"
     ]
    }
   ],
   "source": [
    "#Prepare Testing data\n",
    "tokenizedTest = tokenizer.transform(tweets_test)\n",
    "SwRemovedTest = swr.transform(tokenizedTest)\n",
    "numericTest = hashTF.transform(SwRemovedTest)\n",
    "numericTest.show(truncate=False, n=2)"
   ]
  },
  {
   "cell_type": "code",
   "execution_count": 18,
   "id": "9dc91cf8-b471-43ea-87e6-1c2ec47e83a9",
   "metadata": {},
   "outputs": [
    {
     "name": "stdout",
     "output_type": "stream",
     "text": [
      "root\n",
      " |-- _c0: string (nullable = true)\n",
      " |-- sentence: string (nullable = true)\n",
      " |-- SentimentWords: array (nullable = true)\n",
      " |    |-- element: string (containsNull = true)\n",
      " |-- MeaningfulWords: array (nullable = true)\n",
      " |    |-- element: string (containsNull = true)\n",
      " |-- features: vector (nullable = true)\n",
      " |-- rawPrediction: vector (nullable = true)\n",
      " |-- probability: vector (nullable = true)\n",
      " |-- prediction: double (nullable = false)\n",
      "\n"
     ]
    }
   ],
   "source": [
    "#Prediction\n",
    "raw_prediction = model.transform(numericTest)\n",
    "raw_prediction.printSchema()"
   ]
  },
  {
   "cell_type": "code",
   "execution_count": 23,
   "id": "0f373583-7632-415d-8bd4-0aae2cbf1c35",
   "metadata": {},
   "outputs": [
    {
     "name": "stdout",
     "output_type": "stream",
     "text": [
      "+---------------------------------------------------------------------------------------+----------+\n",
      "|sentence                                                                               |prediction|\n",
      "+---------------------------------------------------------------------------------------+----------+\n",
      "|\"\"\"institutional investors\"\". turns out                                                |0.0       |\n",
      "|i'm old remember buy entire bitcoin $19,000                                            |0.0       |\n",
      "|rt : parts world getting ready celebrate new year, kept buying new bitcoin. looks like…|1.0       |\n",
      "|i'm old remember buy entire bitcoin $19,000                                            |0.0       |\n",
      "+---------------------------------------------------------------------------------------+----------+\n",
      "only showing top 4 rows\n",
      "\n"
     ]
    }
   ],
   "source": [
    "Final_prediction = raw_prediction.select(\"sentence\", \"prediction\")\n",
    "Final_prediction.show(n=4, truncate = False)"
   ]
  },
  {
   "cell_type": "code",
   "execution_count": 25,
   "id": "ec4e6154-867c-473e-8d58-f97b7e564844",
   "metadata": {},
   "outputs": [
    {
     "name": "stdout",
     "output_type": "stream",
     "text": [
      "+------+---------------------------------------------------------------------------------------+--------------------+------------+--------+----+-----+------------+----------+----------+-----+-----+------+------+\n",
      "|5168.0|use ledger trezor monero desktop wallet. wouldn't xmr exchange                         |01/01/2021          |aantonop    |2       |52  |30930|(monero,xmr)|2021-01-01|XMR       |1.010|1.011|2021.0|NEG   |\n",
      "+------+---------------------------------------------------------------------------------------+--------------------+------------+--------+----+-----+------------+----------+----------+-----+-----+------+------+\n",
      "|5167.0|\"\"\"institutional investors\"\". turns out                                                | bitcoin criminals.\"|02/01/2021  |aantonop|3   |26   |30930       |(bitcoin) |2021-01-02|BTC  |2.0  |1.0   |2021.0|\n",
      "|1722.0|i'm old remember buy entire bitcoin $19,000                                            |1/2/2021 15:06      |BarrySilbert|455     |7550|10818|(bitcoin)   |2021-01-02|BTC       |2.0  |1.0  |2021.0|POS   |\n",
      "|1723.0|rt : parts world getting ready celebrate new year, kept buying new bitcoin. looks like…|1/2/2021 2:23       |BarrySilbert|91      |0   |10818|(bitcoin)   |2021-01-02|BTC       |2.0  |1.0  |2021.0|NEU   |\n",
      "+------+---------------------------------------------------------------------------------------+--------------------+------------+--------+----+-----+------------+----------+----------+-----+-----+------+------+\n",
      "only showing top 3 rows\n",
      "\n"
     ]
    }
   ],
   "source": [
    "#merge with original dataset\n",
    "final=spark.read.csv(\"processed_tweets_sa.csv\", inferSchema=True, header=True)\n",
    "final.show(truncate=False, n=3)"
   ]
  },
  {
   "cell_type": "code",
   "execution_count": 26,
   "id": "c6946ff0-a75c-48fe-be5e-89323ceedbbe",
   "metadata": {},
   "outputs": [
    {
     "name": "stdout",
     "output_type": "stream",
     "text": [
      "root\n",
      " |-- 5168.0: string (nullable = true)\n",
      " |-- use ledger trezor monero desktop wallet. wouldn't xmr exchange: string (nullable = true)\n",
      " |-- 01/01/2021: string (nullable = true)\n",
      " |-- aantonop: string (nullable = true)\n",
      " |-- 2: string (nullable = true)\n",
      " |-- 52: string (nullable = true)\n",
      " |-- 30930: string (nullable = true)\n",
      " |-- (monero,xmr): string (nullable = true)\n",
      " |-- 2021-01-01: string (nullable = true)\n",
      " |-- XMR: string (nullable = true)\n",
      " |-- 1.010: string (nullable = true)\n",
      " |-- 1.011: string (nullable = true)\n",
      " |-- 2021.0: string (nullable = true)\n",
      " |-- NEG: string (nullable = true)\n",
      "\n"
     ]
    }
   ],
   "source": [
    "final.printSchema()"
   ]
  },
  {
   "cell_type": "code",
   "execution_count": 46,
   "id": "743aaef1-2e20-4497-9e0b-15bbd0f2f0ba",
   "metadata": {},
   "outputs": [
    {
     "name": "stdout",
     "output_type": "stream",
     "text": [
      "+-------+--------------------+--------------------+------------+--------+---------+-----+----------------+----------+----------+---+-----+------+------+\n",
      "|     id|           tweetText|                time| TwitterName|Retweets|Favorites|likes|        new_coin|   dateNew|    Symbol|Day|Month|  Year| label|\n",
      "+-------+--------------------+--------------------+------------+--------+---------+-----+----------------+----------+----------+---+-----+------+------+\n",
      "| 5167.0|\"\"\"institutional ...| bitcoin criminals.\"|  02/01/2021|aantonop|        3|   26|           30930| (bitcoin)|2021-01-02|BTC|  2.0|   1.0|2021.0|\n",
      "| 1722.0|i'm old remember ...|      1/2/2021 15:06|BarrySilbert|     455|     7550|10818|       (bitcoin)|2021-01-02|       BTC|2.0|  1.0|2021.0|   POS|\n",
      "| 1723.0|rt : parts world ...|       1/2/2021 2:23|BarrySilbert|      91|        0|10818|       (bitcoin)|2021-01-02|       BTC|2.0|  1.0|2021.0|   NEU|\n",
      "| 3592.0|i'm old remember ...|      1/2/2021 15:06|BarrySilbert|     455|     7550|10818|       (bitcoin)|2021-01-02|       BTC|2.0|  1.0|2021.0|   POS|\n",
      "| 3593.0|rt : parts world ...|       1/2/2021 2:23|BarrySilbert|      91|        0|10818|       (bitcoin)|2021-01-02|       BTC|2.0|  1.0|2021.0|   NEU|\n",
      "| 6138.0|i'm old remember ...|      1/2/2021 15:06|BarrySilbert|     455|     7550|10818|       (bitcoin)|2021-01-02|       BTC|2.0|  1.0|2021.0|   POS|\n",
      "| 6139.0|rt : parts world ...|       1/2/2021 2:23|BarrySilbert|      91|        0|10818|       (bitcoin)|2021-01-02|       BTC|2.0|  1.0|2021.0|   NEU|\n",
      "| 8684.0|i'm old remember ...|      1/2/2021 15:06|BarrySilbert|     455|     7550|10818|       (bitcoin)|2021-01-02|       BTC|2.0|  1.0|2021.0|   POS|\n",
      "| 8685.0|rt : parts world ...|       1/2/2021 2:23|BarrySilbert|      91|        0|10818|       (bitcoin)|2021-01-02|       BTC|2.0|  1.0|2021.0|   NEU|\n",
      "|12623.0|i'm old remember ...|      1/2/2021 15:06|BarrySilbert|     455|     7550|10818|       (bitcoin)|2021-01-02|       BTC|2.0|  1.0|2021.0|   POS|\n",
      "|12624.0|rt : parts world ...|       1/2/2021 2:23|BarrySilbert|      91|        0|10818|       (bitcoin)|2021-01-02|       BTC|2.0|  1.0|2021.0|   POS|\n",
      "| 1721.0|bitcoin tops $34,...|      1/3/2021 17:52|BarrySilbert|      53|      376|10818| (rally,bitcoin)|2021-01-03|       BTC|3.0|  1.0|2021.0|   POS|\n",
      "| 3591.0|bitcoin tops $34,...|      1/3/2021 17:52|BarrySilbert|      53|      376|10818| (rally,bitcoin)|2021-01-03|       BTC|3.0|  1.0|2021.0|   POS|\n",
      "| 6137.0|bitcoin tops $34,...|      1/3/2021 17:52|BarrySilbert|      53|      376|10818| (rally,bitcoin)|2021-01-03|       BTC|3.0|  1.0|2021.0|   POS|\n",
      "| 8683.0|bitcoin tops $34,...|      1/3/2021 17:52|BarrySilbert|      53|      376|10818| (rally,bitcoin)|2021-01-03|       BTC|3.0|  1.0|2021.0|   POS|\n",
      "|12622.0|bitcoin tops $34,...|      1/3/2021 17:52|BarrySilbert|      53|      376|10818| (rally,bitcoin)|2021-01-03|       BTC|3.0|  1.0|2021.0|   NEU|\n",
      "| 1720.0|rt : #bitcoin's c...|      1/4/2021 21:03|BarrySilbert|     237|        0|10818|(gt,bitcoin,amp)|2021-01-04|       BTC|4.0|  1.0|2021.0|   NEU|\n",
      "| 3590.0|rt : #bitcoin's c...|      1/4/2021 21:03|BarrySilbert|     237|        0|10818|(gt,bitcoin,amp)|2021-01-04|       BTC|4.0|  1.0|2021.0|   NEU|\n",
      "| 6136.0|rt : #bitcoin's c...|      1/4/2021 21:03|BarrySilbert|     237|        0|10818|(gt,bitcoin,amp)|2021-01-04|       BTC|4.0|  1.0|2021.0|   NEU|\n",
      "| 8682.0|rt : #bitcoin's c...|      1/4/2021 21:03|BarrySilbert|     237|        0|10818|(gt,bitcoin,amp)|2021-01-04|       BTC|4.0|  1.0|2021.0|   NEU|\n",
      "+-------+--------------------+--------------------+------------+--------+---------+-----+----------------+----------+----------+---+-----+------+------+\n",
      "only showing top 20 rows\n",
      "\n"
     ]
    }
   ],
   "source": [
    "# Provide column names\n",
    "new_column_names = ['id', 'tweetText', 'time', 'TwitterName', 'Retweets', 'Favorites', 'likes', 'new_coin','dateNew','Symbol','Day','Month','Year','label']\n",
    "\n",
    "# Rename columns\n",
    "for i, column_name in enumerate(final.columns):\n",
    "    final = final.withColumnRenamed(column_name, new_column_names[i])\n",
    "\n",
    "# Display the DataFrame with renamed columns\n",
    "final.show()"
   ]
  },
  {
   "cell_type": "code",
   "execution_count": 49,
   "id": "c9179f24-750d-418f-9b97-a7f24a3bf2dc",
   "metadata": {},
   "outputs": [],
   "source": [
    "final = final.withColumnRenamed(\"tweetText\", \"sentence\")"
   ]
  },
  {
   "cell_type": "code",
   "execution_count": 50,
   "id": "55df169a-1179-4f59-be8b-a68e6c2d20b2",
   "metadata": {},
   "outputs": [
    {
     "name": "stdout",
     "output_type": "stream",
     "text": [
      "+-------+--------------------+--------------------+------------+--------+---------+-----+----------------+----------+----------+---+-----+------+------+\n",
      "|     id|            sentence|                time| TwitterName|Retweets|Favorites|likes|        new_coin|   dateNew|    Symbol|Day|Month|  Year| label|\n",
      "+-------+--------------------+--------------------+------------+--------+---------+-----+----------------+----------+----------+---+-----+------+------+\n",
      "| 5167.0|\"\"\"institutional ...| bitcoin criminals.\"|  02/01/2021|aantonop|        3|   26|           30930| (bitcoin)|2021-01-02|BTC|  2.0|   1.0|2021.0|\n",
      "| 1722.0|i'm old remember ...|      1/2/2021 15:06|BarrySilbert|     455|     7550|10818|       (bitcoin)|2021-01-02|       BTC|2.0|  1.0|2021.0|   POS|\n",
      "| 1723.0|rt : parts world ...|       1/2/2021 2:23|BarrySilbert|      91|        0|10818|       (bitcoin)|2021-01-02|       BTC|2.0|  1.0|2021.0|   NEU|\n",
      "| 3592.0|i'm old remember ...|      1/2/2021 15:06|BarrySilbert|     455|     7550|10818|       (bitcoin)|2021-01-02|       BTC|2.0|  1.0|2021.0|   POS|\n",
      "| 3593.0|rt : parts world ...|       1/2/2021 2:23|BarrySilbert|      91|        0|10818|       (bitcoin)|2021-01-02|       BTC|2.0|  1.0|2021.0|   NEU|\n",
      "| 6138.0|i'm old remember ...|      1/2/2021 15:06|BarrySilbert|     455|     7550|10818|       (bitcoin)|2021-01-02|       BTC|2.0|  1.0|2021.0|   POS|\n",
      "| 6139.0|rt : parts world ...|       1/2/2021 2:23|BarrySilbert|      91|        0|10818|       (bitcoin)|2021-01-02|       BTC|2.0|  1.0|2021.0|   NEU|\n",
      "| 8684.0|i'm old remember ...|      1/2/2021 15:06|BarrySilbert|     455|     7550|10818|       (bitcoin)|2021-01-02|       BTC|2.0|  1.0|2021.0|   POS|\n",
      "| 8685.0|rt : parts world ...|       1/2/2021 2:23|BarrySilbert|      91|        0|10818|       (bitcoin)|2021-01-02|       BTC|2.0|  1.0|2021.0|   NEU|\n",
      "|12623.0|i'm old remember ...|      1/2/2021 15:06|BarrySilbert|     455|     7550|10818|       (bitcoin)|2021-01-02|       BTC|2.0|  1.0|2021.0|   POS|\n",
      "|12624.0|rt : parts world ...|       1/2/2021 2:23|BarrySilbert|      91|        0|10818|       (bitcoin)|2021-01-02|       BTC|2.0|  1.0|2021.0|   POS|\n",
      "| 1721.0|bitcoin tops $34,...|      1/3/2021 17:52|BarrySilbert|      53|      376|10818| (rally,bitcoin)|2021-01-03|       BTC|3.0|  1.0|2021.0|   POS|\n",
      "| 3591.0|bitcoin tops $34,...|      1/3/2021 17:52|BarrySilbert|      53|      376|10818| (rally,bitcoin)|2021-01-03|       BTC|3.0|  1.0|2021.0|   POS|\n",
      "| 6137.0|bitcoin tops $34,...|      1/3/2021 17:52|BarrySilbert|      53|      376|10818| (rally,bitcoin)|2021-01-03|       BTC|3.0|  1.0|2021.0|   POS|\n",
      "| 8683.0|bitcoin tops $34,...|      1/3/2021 17:52|BarrySilbert|      53|      376|10818| (rally,bitcoin)|2021-01-03|       BTC|3.0|  1.0|2021.0|   POS|\n",
      "|12622.0|bitcoin tops $34,...|      1/3/2021 17:52|BarrySilbert|      53|      376|10818| (rally,bitcoin)|2021-01-03|       BTC|3.0|  1.0|2021.0|   NEU|\n",
      "| 1720.0|rt : #bitcoin's c...|      1/4/2021 21:03|BarrySilbert|     237|        0|10818|(gt,bitcoin,amp)|2021-01-04|       BTC|4.0|  1.0|2021.0|   NEU|\n",
      "| 3590.0|rt : #bitcoin's c...|      1/4/2021 21:03|BarrySilbert|     237|        0|10818|(gt,bitcoin,amp)|2021-01-04|       BTC|4.0|  1.0|2021.0|   NEU|\n",
      "| 6136.0|rt : #bitcoin's c...|      1/4/2021 21:03|BarrySilbert|     237|        0|10818|(gt,bitcoin,amp)|2021-01-04|       BTC|4.0|  1.0|2021.0|   NEU|\n",
      "| 8682.0|rt : #bitcoin's c...|      1/4/2021 21:03|BarrySilbert|     237|        0|10818|(gt,bitcoin,amp)|2021-01-04|       BTC|4.0|  1.0|2021.0|   NEU|\n",
      "+-------+--------------------+--------------------+------------+--------+---------+-----+----------------+----------+----------+---+-----+------+------+\n",
      "only showing top 20 rows\n",
      "\n"
     ]
    }
   ],
   "source": [
    "final.show()"
   ]
  },
  {
   "cell_type": "code",
   "execution_count": 51,
   "id": "e154d38f-ea96-47b4-bb5b-644a482e2c61",
   "metadata": {},
   "outputs": [
    {
     "name": "stdout",
     "output_type": "stream",
     "text": [
      "+--------------------+------+--------------------+------------+--------+---------+-----+---------+----------+----------+---+-----+------+------+----------+\n",
      "|            sentence|    id|                time| TwitterName|Retweets|Favorites|likes| new_coin|   dateNew|    Symbol|Day|Month|  Year| label|prediction|\n",
      "+--------------------+------+--------------------+------------+--------+---------+-----+---------+----------+----------+---+-----+------+------+----------+\n",
      "|\"\"\"institutional ...|5167.0| bitcoin criminals.\"|  02/01/2021|aantonop|        3|   26|    30930| (bitcoin)|2021-01-02|BTC|  2.0|   1.0|2021.0|       0.0|\n",
      "|i'm old remember ...|1722.0|      1/2/2021 15:06|BarrySilbert|     455|     7550|10818|(bitcoin)|2021-01-02|       BTC|2.0|  1.0|2021.0|   POS|       0.0|\n",
      "|i'm old remember ...|1722.0|      1/2/2021 15:06|BarrySilbert|     455|     7550|10818|(bitcoin)|2021-01-02|       BTC|2.0|  1.0|2021.0|   POS|       0.0|\n",
      "|i'm old remember ...|1722.0|      1/2/2021 15:06|BarrySilbert|     455|     7550|10818|(bitcoin)|2021-01-02|       BTC|2.0|  1.0|2021.0|   POS|       0.0|\n",
      "|i'm old remember ...|1722.0|      1/2/2021 15:06|BarrySilbert|     455|     7550|10818|(bitcoin)|2021-01-02|       BTC|2.0|  1.0|2021.0|   POS|       0.0|\n",
      "|i'm old remember ...|1722.0|      1/2/2021 15:06|BarrySilbert|     455|     7550|10818|(bitcoin)|2021-01-02|       BTC|2.0|  1.0|2021.0|   POS|       0.0|\n",
      "|rt : parts world ...|1723.0|       1/2/2021 2:23|BarrySilbert|      91|        0|10818|(bitcoin)|2021-01-02|       BTC|2.0|  1.0|2021.0|   NEU|       1.0|\n",
      "|rt : parts world ...|1723.0|       1/2/2021 2:23|BarrySilbert|      91|        0|10818|(bitcoin)|2021-01-02|       BTC|2.0|  1.0|2021.0|   NEU|       1.0|\n",
      "|rt : parts world ...|1723.0|       1/2/2021 2:23|BarrySilbert|      91|        0|10818|(bitcoin)|2021-01-02|       BTC|2.0|  1.0|2021.0|   NEU|       1.0|\n",
      "|rt : parts world ...|1723.0|       1/2/2021 2:23|BarrySilbert|      91|        0|10818|(bitcoin)|2021-01-02|       BTC|2.0|  1.0|2021.0|   NEU|       1.0|\n",
      "|rt : parts world ...|1723.0|       1/2/2021 2:23|BarrySilbert|      91|        0|10818|(bitcoin)|2021-01-02|       BTC|2.0|  1.0|2021.0|   NEU|       1.0|\n",
      "|i'm old remember ...|3592.0|      1/2/2021 15:06|BarrySilbert|     455|     7550|10818|(bitcoin)|2021-01-02|       BTC|2.0|  1.0|2021.0|   POS|       0.0|\n",
      "|i'm old remember ...|3592.0|      1/2/2021 15:06|BarrySilbert|     455|     7550|10818|(bitcoin)|2021-01-02|       BTC|2.0|  1.0|2021.0|   POS|       0.0|\n",
      "|i'm old remember ...|3592.0|      1/2/2021 15:06|BarrySilbert|     455|     7550|10818|(bitcoin)|2021-01-02|       BTC|2.0|  1.0|2021.0|   POS|       0.0|\n",
      "|i'm old remember ...|3592.0|      1/2/2021 15:06|BarrySilbert|     455|     7550|10818|(bitcoin)|2021-01-02|       BTC|2.0|  1.0|2021.0|   POS|       0.0|\n",
      "|i'm old remember ...|3592.0|      1/2/2021 15:06|BarrySilbert|     455|     7550|10818|(bitcoin)|2021-01-02|       BTC|2.0|  1.0|2021.0|   POS|       0.0|\n",
      "|rt : parts world ...|3593.0|       1/2/2021 2:23|BarrySilbert|      91|        0|10818|(bitcoin)|2021-01-02|       BTC|2.0|  1.0|2021.0|   NEU|       1.0|\n",
      "|rt : parts world ...|3593.0|       1/2/2021 2:23|BarrySilbert|      91|        0|10818|(bitcoin)|2021-01-02|       BTC|2.0|  1.0|2021.0|   NEU|       1.0|\n",
      "|rt : parts world ...|3593.0|       1/2/2021 2:23|BarrySilbert|      91|        0|10818|(bitcoin)|2021-01-02|       BTC|2.0|  1.0|2021.0|   NEU|       1.0|\n",
      "|rt : parts world ...|3593.0|       1/2/2021 2:23|BarrySilbert|      91|        0|10818|(bitcoin)|2021-01-02|       BTC|2.0|  1.0|2021.0|   NEU|       1.0|\n",
      "+--------------------+------+--------------------+------------+--------+---------+-----+---------+----------+----------+---+-----+------+------+----------+\n",
      "only showing top 20 rows\n",
      "\n"
     ]
    }
   ],
   "source": [
    "# Join the DataFrames based on the common column\n",
    "joined_df = final.join(Final_prediction, on=\"sentence\", how=\"inner\")\n",
    "\n",
    "# Show the joined DataFrame\n",
    "joined_df.show()"
   ]
  },
  {
   "cell_type": "code",
   "execution_count": 52,
   "id": "62c09c79-6c1e-451d-908a-685f560de774",
   "metadata": {},
   "outputs": [
    {
     "name": "stdout",
     "output_type": "stream",
     "text": [
      "+------+--------------------+--------------------+------------+--------+---------+-----+----------+----------+---+-----+------+----------+\n",
      "|    id|            sentence|                time| TwitterName|Retweets|Favorites|Likes|   dateNew|    Symbol|Day|Month|  Year|prediction|\n",
      "+------+--------------------+--------------------+------------+--------+---------+-----+----------+----------+---+-----+------+----------+\n",
      "|5167.0|\"\"\"institutional ...| bitcoin criminals.\"|  02/01/2021|aantonop|        3|   26| (bitcoin)|2021-01-02|BTC|  2.0|   1.0|       0.0|\n",
      "|1722.0|i'm old remember ...|      1/2/2021 15:06|BarrySilbert|     455|     7550|10818|2021-01-02|       BTC|2.0|  1.0|2021.0|       0.0|\n",
      "|1722.0|i'm old remember ...|      1/2/2021 15:06|BarrySilbert|     455|     7550|10818|2021-01-02|       BTC|2.0|  1.0|2021.0|       0.0|\n",
      "|1722.0|i'm old remember ...|      1/2/2021 15:06|BarrySilbert|     455|     7550|10818|2021-01-02|       BTC|2.0|  1.0|2021.0|       0.0|\n",
      "|1722.0|i'm old remember ...|      1/2/2021 15:06|BarrySilbert|     455|     7550|10818|2021-01-02|       BTC|2.0|  1.0|2021.0|       0.0|\n",
      "|1722.0|i'm old remember ...|      1/2/2021 15:06|BarrySilbert|     455|     7550|10818|2021-01-02|       BTC|2.0|  1.0|2021.0|       0.0|\n",
      "|1723.0|rt : parts world ...|       1/2/2021 2:23|BarrySilbert|      91|        0|10818|2021-01-02|       BTC|2.0|  1.0|2021.0|       1.0|\n",
      "|1723.0|rt : parts world ...|       1/2/2021 2:23|BarrySilbert|      91|        0|10818|2021-01-02|       BTC|2.0|  1.0|2021.0|       1.0|\n",
      "|1723.0|rt : parts world ...|       1/2/2021 2:23|BarrySilbert|      91|        0|10818|2021-01-02|       BTC|2.0|  1.0|2021.0|       1.0|\n",
      "|1723.0|rt : parts world ...|       1/2/2021 2:23|BarrySilbert|      91|        0|10818|2021-01-02|       BTC|2.0|  1.0|2021.0|       1.0|\n",
      "|1723.0|rt : parts world ...|       1/2/2021 2:23|BarrySilbert|      91|        0|10818|2021-01-02|       BTC|2.0|  1.0|2021.0|       1.0|\n",
      "|3592.0|i'm old remember ...|      1/2/2021 15:06|BarrySilbert|     455|     7550|10818|2021-01-02|       BTC|2.0|  1.0|2021.0|       0.0|\n",
      "|3592.0|i'm old remember ...|      1/2/2021 15:06|BarrySilbert|     455|     7550|10818|2021-01-02|       BTC|2.0|  1.0|2021.0|       0.0|\n",
      "|3592.0|i'm old remember ...|      1/2/2021 15:06|BarrySilbert|     455|     7550|10818|2021-01-02|       BTC|2.0|  1.0|2021.0|       0.0|\n",
      "|3592.0|i'm old remember ...|      1/2/2021 15:06|BarrySilbert|     455|     7550|10818|2021-01-02|       BTC|2.0|  1.0|2021.0|       0.0|\n",
      "|3592.0|i'm old remember ...|      1/2/2021 15:06|BarrySilbert|     455|     7550|10818|2021-01-02|       BTC|2.0|  1.0|2021.0|       0.0|\n",
      "|3593.0|rt : parts world ...|       1/2/2021 2:23|BarrySilbert|      91|        0|10818|2021-01-02|       BTC|2.0|  1.0|2021.0|       1.0|\n",
      "|3593.0|rt : parts world ...|       1/2/2021 2:23|BarrySilbert|      91|        0|10818|2021-01-02|       BTC|2.0|  1.0|2021.0|       1.0|\n",
      "|3593.0|rt : parts world ...|       1/2/2021 2:23|BarrySilbert|      91|        0|10818|2021-01-02|       BTC|2.0|  1.0|2021.0|       1.0|\n",
      "|3593.0|rt : parts world ...|       1/2/2021 2:23|BarrySilbert|      91|        0|10818|2021-01-02|       BTC|2.0|  1.0|2021.0|       1.0|\n",
      "+------+--------------------+--------------------+------------+--------+---------+-----+----------+----------+---+-----+------+----------+\n",
      "only showing top 20 rows\n",
      "\n"
     ]
    }
   ],
   "source": [
    "#Let's merge our original dataframe with the prediction results\n",
    "# Select columns from df1 and df2 to create a new DataFrame\n",
    "spark_sa_results = joined_df.select(\"id\", \"sentence\",\"time\", \"TwitterName\", \"Retweets\", \"Favorites\", \"Likes\", \"dateNew\", \"Symbol\", \"Day\", \"Month\", \"Year\", \"prediction\")\n",
    "\n",
    "# Show the new DataFrame\n",
    "spark_sa_results.show()"
   ]
  },
  {
   "cell_type": "code",
   "execution_count": 54,
   "id": "43ee9a54-c3da-4ead-8387-7bf63c3d8170",
   "metadata": {},
   "outputs": [],
   "source": [
    "spark_sa_results.write.csv('spark_sa_results.csv', header = True, mode = 'overwrite')"
   ]
  },
  {
   "cell_type": "code",
   "execution_count": 78,
   "id": "3dc1c5cd-1019-499e-b699-792d5ce7da7c",
   "metadata": {},
   "outputs": [],
   "source": [
    "SparkSession.stop(spark)"
   ]
  },
  {
   "cell_type": "markdown",
   "id": "0b6108d2-a5ed-48ce-afa7-5573d5b75d52",
   "metadata": {},
   "source": [
    "# Load sentiment analysis to Postgres #"
   ]
  },
  {
   "cell_type": "code",
   "execution_count": 1,
   "id": "e120ba44-3b31-497e-8434-0c2994c50d05",
   "metadata": {},
   "outputs": [],
   "source": [
    "from pyspark.sql.functions import *\n",
    "from pyspark.sql import *\n",
    "from pyspark.sql.types import *\n",
    "from pyspark.sql.types import StructType, StructField, IntegerType, StringType,array,ArrayType,DateType,TimestampType, FloatType\n",
    "from pyspark.sql import functions as f\n",
    "from pyspark.sql.functions import udf\n",
    "import hashlib\n",
    "import datetime\n",
    "import urllib.request\n",
    "import json\n",
    "from datetime import timedelta, date\n",
    "from pyspark import SparkContext\n",
    "from pyspark.sql import SparkSession\n",
    "from pyspark import SQLContext\n",
    "from itertools import islice\n",
    "from pyspark.sql.functions import col\n",
    "import sys"
   ]
  },
  {
   "cell_type": "code",
   "execution_count": 2,
   "id": "bbead62c-501f-492e-a25b-fd715297e580",
   "metadata": {},
   "outputs": [],
   "source": [
    "# Spark session & context\n",
    "spark = (SparkSession\n",
    "         .builder\n",
    "         .master(\"local\")\n",
    "         .appName(\"load-postgres\")\n",
    "         # Add postgres jar\n",
    "         .config(\"spark.driver.extraClassPath\", \"/home/jovyan/work/jars/postgresql-42.4.0.jar\")\n",
    "         .getOrCreate())\n",
    "sc = spark.sparkContext"
   ]
  },
  {
   "cell_type": "code",
   "execution_count": 3,
   "id": "c8d00ce3-abbc-4996-9445-9b013111cdc0",
   "metadata": {},
   "outputs": [
    {
     "name": "stdout",
     "output_type": "stream",
     "text": [
      "+------+--------------------+-------------------+------------+--------+---------+-----+----------+----------+---+-----+------+----------+\n",
      "|    id|            sentence|               time| TwitterName|Retweets|Favorites|Likes|   dateNew|    Symbol|Day|Month|  Year|prediction|\n",
      "+------+--------------------+-------------------+------------+--------+---------+-----+----------+----------+---+-----+------+----------+\n",
      "|5167.0|\"\"\"institutional ...|bitcoin criminals.\"|  02/01/2021|aantonop|        3|   26| (bitcoin)|2021-01-02|BTC|  2.0|   1.0|       0.0|\n",
      "|1722.0|i'm old remember ...|     1/2/2021 15:06|BarrySilbert|     455|     7550|10818|2021-01-02|       BTC|2.0|  1.0|2021.0|       0.0|\n",
      "|1722.0|i'm old remember ...|     1/2/2021 15:06|BarrySilbert|     455|     7550|10818|2021-01-02|       BTC|2.0|  1.0|2021.0|       0.0|\n",
      "|1722.0|i'm old remember ...|     1/2/2021 15:06|BarrySilbert|     455|     7550|10818|2021-01-02|       BTC|2.0|  1.0|2021.0|       0.0|\n",
      "|1722.0|i'm old remember ...|     1/2/2021 15:06|BarrySilbert|     455|     7550|10818|2021-01-02|       BTC|2.0|  1.0|2021.0|       0.0|\n",
      "|1722.0|i'm old remember ...|     1/2/2021 15:06|BarrySilbert|     455|     7550|10818|2021-01-02|       BTC|2.0|  1.0|2021.0|       0.0|\n",
      "|1723.0|rt : parts world ...|      1/2/2021 2:23|BarrySilbert|      91|        0|10818|2021-01-02|       BTC|2.0|  1.0|2021.0|       1.0|\n",
      "|1723.0|rt : parts world ...|      1/2/2021 2:23|BarrySilbert|      91|        0|10818|2021-01-02|       BTC|2.0|  1.0|2021.0|       1.0|\n",
      "|1723.0|rt : parts world ...|      1/2/2021 2:23|BarrySilbert|      91|        0|10818|2021-01-02|       BTC|2.0|  1.0|2021.0|       1.0|\n",
      "|1723.0|rt : parts world ...|      1/2/2021 2:23|BarrySilbert|      91|        0|10818|2021-01-02|       BTC|2.0|  1.0|2021.0|       1.0|\n",
      "|1723.0|rt : parts world ...|      1/2/2021 2:23|BarrySilbert|      91|        0|10818|2021-01-02|       BTC|2.0|  1.0|2021.0|       1.0|\n",
      "|3592.0|i'm old remember ...|     1/2/2021 15:06|BarrySilbert|     455|     7550|10818|2021-01-02|       BTC|2.0|  1.0|2021.0|       0.0|\n",
      "|3592.0|i'm old remember ...|     1/2/2021 15:06|BarrySilbert|     455|     7550|10818|2021-01-02|       BTC|2.0|  1.0|2021.0|       0.0|\n",
      "|3592.0|i'm old remember ...|     1/2/2021 15:06|BarrySilbert|     455|     7550|10818|2021-01-02|       BTC|2.0|  1.0|2021.0|       0.0|\n",
      "|3592.0|i'm old remember ...|     1/2/2021 15:06|BarrySilbert|     455|     7550|10818|2021-01-02|       BTC|2.0|  1.0|2021.0|       0.0|\n",
      "|3592.0|i'm old remember ...|     1/2/2021 15:06|BarrySilbert|     455|     7550|10818|2021-01-02|       BTC|2.0|  1.0|2021.0|       0.0|\n",
      "|3593.0|rt : parts world ...|      1/2/2021 2:23|BarrySilbert|      91|        0|10818|2021-01-02|       BTC|2.0|  1.0|2021.0|       1.0|\n",
      "|3593.0|rt : parts world ...|      1/2/2021 2:23|BarrySilbert|      91|        0|10818|2021-01-02|       BTC|2.0|  1.0|2021.0|       1.0|\n",
      "|3593.0|rt : parts world ...|      1/2/2021 2:23|BarrySilbert|      91|        0|10818|2021-01-02|       BTC|2.0|  1.0|2021.0|       1.0|\n",
      "|3593.0|rt : parts world ...|      1/2/2021 2:23|BarrySilbert|      91|        0|10818|2021-01-02|       BTC|2.0|  1.0|2021.0|       1.0|\n",
      "+------+--------------------+-------------------+------------+--------+---------+-----+----------+----------+---+-----+------+----------+\n",
      "only showing top 20 rows\n",
      "\n"
     ]
    }
   ],
   "source": [
    "spark_sa=spark.read.csv(\"spark_sa_results/spark_sentiment_analysis.csv\", inferSchema=True, header=True)\n",
    "spark_sa.show(truncate=True, n=20)"
   ]
  },
  {
   "cell_type": "code",
   "execution_count": 4,
   "id": "6c0279b0-262f-4c11-b87d-bb65cec9642a",
   "metadata": {},
   "outputs": [],
   "source": [
    "spark_sa.write.format(\"jdbc\").option(\"url\", \"jdbc:postgresql://host.docker.internal:5432/airflow\").option(\"dbtable\", \"public.spark_sa\").option(\"user\", \"airflow\").option(\"password\", \"airflow\").mode(\"append\").save()"
   ]
  },
  {
   "cell_type": "code",
   "execution_count": null,
   "id": "cbebc527-bac4-42bc-a10c-be4bf6f185dd",
   "metadata": {},
   "outputs": [],
   "source": []
  }
 ],
 "metadata": {
  "kernelspec": {
   "display_name": "Python 3 (ipykernel)",
   "language": "python",
   "name": "python3"
  },
  "language_info": {
   "codemirror_mode": {
    "name": "ipython",
    "version": 3
   },
   "file_extension": ".py",
   "mimetype": "text/x-python",
   "name": "python",
   "nbconvert_exporter": "python",
   "pygments_lexer": "ipython3",
   "version": "3.11.3"
  }
 },
 "nbformat": 4,
 "nbformat_minor": 5
}
