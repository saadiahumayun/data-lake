{
 "cells": [
  {
   "cell_type": "code",
   "execution_count": null,
   "id": "6cc66589-6813-4389-a644-3a878541ac33",
   "metadata": {},
   "outputs": [],
   "source": [
    "import os\n",
    "#from delta.tables import *\n",
    "#from delta.tables import DeltaTable\n",
    "from pyspark.sql.functions import *\n",
    "from pyspark.sql import *\n",
    "from pyspark.sql.types import *\n",
    "from pyspark.sql.types import StructType, StructField, IntegerType, StringType,array,ArrayType,DateType,TimestampType, FloatType\n",
    "from pyspark.sql import functions as f\n",
    "from pyspark.sql.functions import udf\n",
    "import hashlib\n",
    "import datetime\n",
    "import urllib.request\n",
    "import json\n",
    "from datetime import timedelta, date\n",
    "from pyspark import SparkContext\n",
    "from pyspark.sql import SparkSession\n",
    "from pyspark import SQLContext\n",
    "from itertools import islice\n",
    "from pyspark.sql.functions import col\n",
    "import sys\n"
   ]
  },
  {
   "cell_type": "code",
   "execution_count": null,
   "id": "d7e7c738-44f6-430e-a623-dd24c5e94882",
   "metadata": {},
   "outputs": [],
   "source": [
    "os.environ['PYSPARK_SUBMIT_ARGS'] = '--packages io.minio:spark-select_2.11:2.1 pyspark-shell'"
   ]
  },
  {
   "cell_type": "code",
   "execution_count": null,
   "id": "feb57765-cd17-4c5f-b73f-623f28611858",
   "metadata": {},
   "outputs": [],
   "source": [
    "# filtered schema\n",
    "st = StructType([\n",
    "        StructField(\"name\", StringType(), True),\n",
    "        StructField(\"age\", IntegerType(), False),\n",
    "    ])"
   ]
  },
  {
   "cell_type": "code",
   "execution_count": null,
   "id": "4559430b-a76a-4c98-9ee7-e673674643d4",
   "metadata": {},
   "outputs": [],
   "source": [
    "spark = SparkSession.builder \\\n",
    "    .appName(\"MyApp\").master(\"local\").getOrCreate()"
   ]
  },
  {
   "cell_type": "code",
   "execution_count": null,
   "id": "d1036b07-7d84-446b-baad-d2e99b5d0148",
   "metadata": {},
   "outputs": [],
   "source": [
    "df = spark.read.format(\"minioSelectCSV\").schema(st).load(\"s3://miniobucket/people.csv\")"
   ]
  },
  {
   "cell_type": "code",
   "execution_count": null,
   "id": "a15f9d3b-4469-4b20-971a-b8db774a0966",
   "metadata": {},
   "outputs": [],
   "source": [
    "# show all rows.\n",
    "df.show()"
   ]
  },
  {
   "cell_type": "code",
   "execution_count": null,
   "id": "c6b1a7f4-45a5-4335-b6a0-04d7d49b6552",
   "metadata": {},
   "outputs": [],
   "source": []
  }
 ],
 "metadata": {
  "kernelspec": {
   "display_name": "Python 3 (ipykernel)",
   "language": "python",
   "name": "python3"
  },
  "language_info": {
   "codemirror_mode": {
    "name": "ipython",
    "version": 3
   },
   "file_extension": ".py",
   "mimetype": "text/x-python",
   "name": "python",
   "nbconvert_exporter": "python",
   "pygments_lexer": "ipython3",
   "version": "3.9.7"
  }
 },
 "nbformat": 4,
 "nbformat_minor": 5
}
